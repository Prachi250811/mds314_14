{
  "nbformat": 4,
  "nbformat_minor": 0,
  "metadata": {
    "colab": {
      "provenance": []
    },
    "kernelspec": {
      "name": "python3",
      "display_name": "Python 3"
    },
    "language_info": {
      "name": "python"
    }
  },
  "cells": [
    {
      "cell_type": "code",
      "execution_count": 15,
      "metadata": {
        "id": "uyCUqDh_BsZl"
      },
      "outputs": [],
      "source": [
        "import numpy as np"
      ]
    },
    {
      "cell_type": "markdown",
      "source": [
        "HEBB LEARNING"
      ],
      "metadata": {
        "id": "9PTuknxlDQuq"
      }
    },
    {
      "cell_type": "code",
      "source": [
        "def hebb_train(inputs, targets):\n",
        "    weights = np.ones(len(inputs[0]) + 1)   # initializing the weights and bias with 1\n",
        "    for x, y in zip(inputs, targets):\n",
        "        x = np.array([1] + list(x))\n",
        "        weights += y * x                   # Hebbian weight update\n",
        "    return weights"
      ],
      "metadata": {
        "id": "oPd49xzCDN6t"
      },
      "execution_count": 16,
      "outputs": []
    },
    {
      "cell_type": "markdown",
      "source": [
        "PREDICTION"
      ],
      "metadata": {
        "id": "lsLUO9jhD9ks"
      }
    },
    {
      "cell_type": "code",
      "source": [
        "def predict(weights, x):\n",
        "    x = np.array([1] + list(x))            # add bias\n",
        "    y_in = np.dot(weights, x)\n",
        "    return 1 if y_in >= 0 else -1"
      ],
      "metadata": {
        "id": "mTgdj0epDbbB"
      },
      "execution_count": 17,
      "outputs": []
    },
    {
      "cell_type": "markdown",
      "source": [
        "TRUTH TABLES"
      ],
      "metadata": {
        "id": "L8OEQo-2EEqq"
      }
    },
    {
      "cell_type": "code",
      "source": [
        "AND_inputs  = [(-1,-1), (-1,1), (1,-1), (1,1)]\n",
        "AND_targets = [-1, -1, -1,  1]\n",
        "\n",
        "OR_inputs   = [(-1,-1), (-1,1), (1,-1), (1,1)]\n",
        "OR_targets  = [-1,  1,  1,  1]\n",
        "\n",
        "NAND_inputs = [(-1,-1), (-1,1), (1,-1), (1,1)]\n",
        "NAND_targets= [ 1,  1,  1, -1]\n",
        "\n",
        "NOR_inputs  = [(-1,-1), (-1,1), (1,-1), (1,1)]\n",
        "NOR_targets = [ 1, -1, -1, -1]"
      ],
      "metadata": {
        "id": "AwboF9hrEBEZ"
      },
      "execution_count": 14,
      "outputs": []
    },
    {
      "cell_type": "markdown",
      "source": [
        "TRAINING AND TESTING"
      ],
      "metadata": {
        "id": "_q-L-9csENWs"
      }
    },
    {
      "cell_type": "code",
      "source": [
        "for name, inputs, targets in [\n",
        "    (\"AND\", AND_inputs, AND_targets),\n",
        "    (\"OR\", OR_inputs, OR_targets),\n",
        "    (\"NAND\", NAND_inputs, NAND_targets),\n",
        "    (\"NOR\", NOR_inputs, NOR_targets)\n",
        "]:\n",
        "    w = hebb_train(inputs, targets)\n",
        "    print(f\"\\n{name} Gate WeightS: {w}\")\n",
        "    for x in inputs:\n",
        "        print(f\"Input {x} -> Output {predict(w, x)}\")"
      ],
      "metadata": {
        "colab": {
          "base_uri": "https://localhost:8080/"
        },
        "id": "WP7sTWeNEHgO",
        "outputId": "835899dc-edf4-42ed-e2db-286d84a4e9ce"
      },
      "execution_count": 18,
      "outputs": [
        {
          "output_type": "stream",
          "name": "stdout",
          "text": [
            "\n",
            "AND Gate WeightS: [-1.  3.  3.]\n",
            "Input (-1, -1) -> Output -1\n",
            "Input (-1, 1) -> Output -1\n",
            "Input (1, -1) -> Output -1\n",
            "Input (1, 1) -> Output 1\n",
            "\n",
            "OR Gate WeightS: [3. 3. 3.]\n",
            "Input (-1, -1) -> Output -1\n",
            "Input (-1, 1) -> Output 1\n",
            "Input (1, -1) -> Output 1\n",
            "Input (1, 1) -> Output 1\n",
            "\n",
            "NAND Gate WeightS: [ 3. -1. -1.]\n",
            "Input (-1, -1) -> Output 1\n",
            "Input (-1, 1) -> Output 1\n",
            "Input (1, -1) -> Output 1\n",
            "Input (1, 1) -> Output 1\n",
            "\n",
            "NOR Gate WeightS: [-1. -1. -1.]\n",
            "Input (-1, -1) -> Output 1\n",
            "Input (-1, 1) -> Output -1\n",
            "Input (1, -1) -> Output -1\n",
            "Input (1, 1) -> Output -1\n"
          ]
        }
      ]
    }
  ]
}