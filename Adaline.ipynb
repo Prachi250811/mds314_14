{
  "nbformat": 4,
  "nbformat_minor": 0,
  "metadata": {
    "colab": {
      "provenance": []
    },
    "kernelspec": {
      "name": "python3",
      "display_name": "Python 3"
    },
    "language_info": {
      "name": "python"
    }
  },
  "cells": [
    {
      "cell_type": "code",
      "execution_count": 25,
      "metadata": {
        "id": "OXggii82TCzQ"
      },
      "outputs": [],
      "source": [
        "import numpy as np"
      ]
    },
    {
      "cell_type": "code",
      "source": [
        "def train_adaline(inputs, targets, learning_rate=1, epochs=10):\n",
        "   weights = np.zeros(inputs.shape[1]) #weights and bias initialized to 0\n",
        "   bias = 0\n",
        "\n",
        "   for _ in range(epochs):\n",
        "     for x, target in zip(inputs, targets):\n",
        "        output = np.dot(x, weights) + bias\n",
        "        y_hat= output  #using the identity activation function\n",
        "        error = target - y_hat\n",
        "        weights += learning_rate * error * x\n",
        "        bias += learning_rate * error\n",
        "   return weights, bias"
      ],
      "metadata": {
        "id": "iPHI7xSyTIlr"
      },
      "execution_count": 26,
      "outputs": []
    },
    {
      "cell_type": "code",
      "source": [
        "X = np.array([\n",
        "[0, 0],\n",
        "[0, 1],\n",
        "[1, 0],\n",
        "[1, 1]\n",
        "])\n",
        "gates = {\n",
        "\"AND\": np.array([-1, -1, -1, 1]),\n",
        "\"OR\": np.array([-1, 1, 1, 1]),\n",
        "\"NAND\": np.array([ 1, 1, 1, -1]),\n",
        "\"NOR\": np.array([ 1, -1, -1, -1])\n",
        "}"
      ],
      "metadata": {
        "id": "MPPgpdMwUCHG"
      },
      "execution_count": 27,
      "outputs": []
    },
    {
      "cell_type": "markdown",
      "source": [
        "TRAINING"
      ],
      "metadata": {
        "id": "CGt9rzfuU5sZ"
      }
    },
    {
      "cell_type": "code",
      "source": [
        "for gate_name, y in gates.items():\n",
        "    weights, bias = train_adaline(X, y, learning_rate=1, epochs=10)\n",
        "    print(f\"{gate_name} Gate:\")\n",
        "    print(\" Learned Weights:\", weights)\n",
        "    print(\" Learned Bias:\", bias)\n",
        "    print(\" Target :\", y)\n",
        "    print(\"-\" * 40)"
      ],
      "metadata": {
        "colab": {
          "base_uri": "https://localhost:8080/"
        },
        "id": "PQz-tpnpUxSO",
        "outputId": "ee0d2307-7c75-4b3c-cb83-b08dda6be9aa"
      },
      "execution_count": 28,
      "outputs": [
        {
          "output_type": "stream",
          "name": "stdout",
          "text": [
            "AND Gate:\n",
            " Learned Weights: [20. 10.]\n",
            " Learned Bias: -9.0\n",
            " Target : [-1 -1 -1  1]\n",
            "----------------------------------------\n",
            "OR Gate:\n",
            " Learned Weights: [-20. -10.]\n",
            " Learned Bias: 7.0\n",
            " Target : [-1  1  1  1]\n",
            "----------------------------------------\n",
            "NAND Gate:\n",
            " Learned Weights: [-20. -10.]\n",
            " Learned Bias: 9.0\n",
            " Target : [ 1  1  1 -1]\n",
            "----------------------------------------\n",
            "NOR Gate:\n",
            " Learned Weights: [20. 10.]\n",
            " Learned Bias: -7.0\n",
            " Target : [ 1 -1 -1 -1]\n",
            "----------------------------------------\n"
          ]
        }
      ]
    }
  ]
}