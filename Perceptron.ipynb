{
  "nbformat": 4,
  "nbformat_minor": 0,
  "metadata": {
    "colab": {
      "provenance": []
    },
    "kernelspec": {
      "name": "python3",
      "display_name": "Python 3"
    },
    "language_info": {
      "name": "python"
    }
  },
  "cells": [
    {
      "cell_type": "code",
      "execution_count": 9,
      "metadata": {
        "id": "oJWIYKaQHCfM"
      },
      "outputs": [],
      "source": [
        "import numpy as np"
      ]
    },
    {
      "cell_type": "markdown",
      "source": [
        "Activation function"
      ],
      "metadata": {
        "id": "7vN1jO-kMX4t"
      }
    },
    {
      "cell_type": "code",
      "source": [
        "def activation(x):\n",
        "    return 1 if x >= 0 else -1"
      ],
      "metadata": {
        "id": "eztkiFr6MTFx"
      },
      "execution_count": 10,
      "outputs": []
    },
    {
      "cell_type": "markdown",
      "source": [
        "PERCEPTRON TRAINING"
      ],
      "metadata": {
        "id": "b5t6CT1FNJi2"
      }
    },
    {
      "cell_type": "code",
      "source": [
        "def perceptron_train(inputs, targets, epochs=10):\n",
        "    w = np.ones(inputs.shape[1]+1)  # weights initialized to 1\n",
        "    alpha = 1                     # learning rate\n",
        "    b=1\n",
        "    print(f\"Initial Weights: {w}, Bias: {b}\")\n",
        "\n",
        "    for epoch in range(epochs):\n",
        "        print(f\"\\nEpoch {epoch+1}\")\n",
        "        for x, t in zip(inputs, targets):\n",
        "            x = np.array([1] + list(x))\n",
        "            net = np.dot(w, x)\n",
        "            y = activation(net)\n",
        "            if y != t :\n",
        "            # weight & bias updat\n",
        "             w = w + alpha * x * t\n",
        "             b = b + alpha * t\n",
        "            print(f\"Input: {x}, Target: {t}, Output: {y}, Updated Weights: {w}, Bias: {b}\")\n",
        "    return w, b\n"
      ],
      "metadata": {
        "id": "e165PYIvMpr9"
      },
      "execution_count": 22,
      "outputs": []
    },
    {
      "cell_type": "code",
      "source": [
        "inputs = np.array([[-1, -1],\n",
        "                   [-1,  1],\n",
        "                   [ 1, -1],\n",
        "                   [ 1,  1]])\n",
        "targets_dict = {\n",
        "    \"AND\":  np.array([-1, -1, -1,  1]),\n",
        "    \"OR\":   np.array([-1,  1,  1,  1]),\n",
        "    \"NAND\": np.array([ 1,  1,  1, -1]),\n",
        "    \"NOR\":  np.array([ 1, -1, -1, -1])\n",
        "}"
      ],
      "metadata": {
        "id": "dTkJwtL6NN2s"
      },
      "execution_count": 23,
      "outputs": []
    },
    {
      "cell_type": "code",
      "source": [
        "for gate, targets in targets_dict.items():\n",
        "    print(f\"\\nTraining for {gate} Gate:\")\n",
        "    w, b = perceptron_train(inputs, targets, epochs=5)\n",
        "    print(f\"Final Weights: {w}, Bias: {b}\")\n",
        "    print(\"-\"*50)"
      ],
      "metadata": {
        "colab": {
          "base_uri": "https://localhost:8080/"
        },
        "id": "g67km81vNYjR",
        "outputId": "9fc73214-6375-431f-963a-b5d1b13f790a"
      },
      "execution_count": 24,
      "outputs": [
        {
          "output_type": "stream",
          "name": "stdout",
          "text": [
            "\n",
            "Training for AND Gate:\n",
            "Initial Weights: [1. 1. 1.], Bias: 1\n",
            "\n",
            "Epoch 1\n",
            "Input: [ 1 -1 -1], Target: -1, Output: -1, Updated Weights: [1. 1. 1.], Bias: 1\n",
            "Input: [ 1 -1  1], Target: -1, Output: 1, Updated Weights: [0. 2. 0.], Bias: 0\n",
            "Input: [ 1  1 -1], Target: -1, Output: 1, Updated Weights: [-1.  1.  1.], Bias: -1\n",
            "Input: [1 1 1], Target: 1, Output: 1, Updated Weights: [-1.  1.  1.], Bias: -1\n",
            "\n",
            "Epoch 2\n",
            "Input: [ 1 -1 -1], Target: -1, Output: -1, Updated Weights: [-1.  1.  1.], Bias: -1\n",
            "Input: [ 1 -1  1], Target: -1, Output: -1, Updated Weights: [-1.  1.  1.], Bias: -1\n",
            "Input: [ 1  1 -1], Target: -1, Output: -1, Updated Weights: [-1.  1.  1.], Bias: -1\n",
            "Input: [1 1 1], Target: 1, Output: 1, Updated Weights: [-1.  1.  1.], Bias: -1\n",
            "\n",
            "Epoch 3\n",
            "Input: [ 1 -1 -1], Target: -1, Output: -1, Updated Weights: [-1.  1.  1.], Bias: -1\n",
            "Input: [ 1 -1  1], Target: -1, Output: -1, Updated Weights: [-1.  1.  1.], Bias: -1\n",
            "Input: [ 1  1 -1], Target: -1, Output: -1, Updated Weights: [-1.  1.  1.], Bias: -1\n",
            "Input: [1 1 1], Target: 1, Output: 1, Updated Weights: [-1.  1.  1.], Bias: -1\n",
            "\n",
            "Epoch 4\n",
            "Input: [ 1 -1 -1], Target: -1, Output: -1, Updated Weights: [-1.  1.  1.], Bias: -1\n",
            "Input: [ 1 -1  1], Target: -1, Output: -1, Updated Weights: [-1.  1.  1.], Bias: -1\n",
            "Input: [ 1  1 -1], Target: -1, Output: -1, Updated Weights: [-1.  1.  1.], Bias: -1\n",
            "Input: [1 1 1], Target: 1, Output: 1, Updated Weights: [-1.  1.  1.], Bias: -1\n",
            "\n",
            "Epoch 5\n",
            "Input: [ 1 -1 -1], Target: -1, Output: -1, Updated Weights: [-1.  1.  1.], Bias: -1\n",
            "Input: [ 1 -1  1], Target: -1, Output: -1, Updated Weights: [-1.  1.  1.], Bias: -1\n",
            "Input: [ 1  1 -1], Target: -1, Output: -1, Updated Weights: [-1.  1.  1.], Bias: -1\n",
            "Input: [1 1 1], Target: 1, Output: 1, Updated Weights: [-1.  1.  1.], Bias: -1\n",
            "Final Weights: [-1.  1.  1.], Bias: -1\n",
            "--------------------------------------------------\n",
            "\n",
            "Training for OR Gate:\n",
            "Initial Weights: [1. 1. 1.], Bias: 1\n",
            "\n",
            "Epoch 1\n",
            "Input: [ 1 -1 -1], Target: -1, Output: -1, Updated Weights: [1. 1. 1.], Bias: 1\n",
            "Input: [ 1 -1  1], Target: 1, Output: 1, Updated Weights: [1. 1. 1.], Bias: 1\n",
            "Input: [ 1  1 -1], Target: 1, Output: 1, Updated Weights: [1. 1. 1.], Bias: 1\n",
            "Input: [1 1 1], Target: 1, Output: 1, Updated Weights: [1. 1. 1.], Bias: 1\n",
            "\n",
            "Epoch 2\n",
            "Input: [ 1 -1 -1], Target: -1, Output: -1, Updated Weights: [1. 1. 1.], Bias: 1\n",
            "Input: [ 1 -1  1], Target: 1, Output: 1, Updated Weights: [1. 1. 1.], Bias: 1\n",
            "Input: [ 1  1 -1], Target: 1, Output: 1, Updated Weights: [1. 1. 1.], Bias: 1\n",
            "Input: [1 1 1], Target: 1, Output: 1, Updated Weights: [1. 1. 1.], Bias: 1\n",
            "\n",
            "Epoch 3\n",
            "Input: [ 1 -1 -1], Target: -1, Output: -1, Updated Weights: [1. 1. 1.], Bias: 1\n",
            "Input: [ 1 -1  1], Target: 1, Output: 1, Updated Weights: [1. 1. 1.], Bias: 1\n",
            "Input: [ 1  1 -1], Target: 1, Output: 1, Updated Weights: [1. 1. 1.], Bias: 1\n",
            "Input: [1 1 1], Target: 1, Output: 1, Updated Weights: [1. 1. 1.], Bias: 1\n",
            "\n",
            "Epoch 4\n",
            "Input: [ 1 -1 -1], Target: -1, Output: -1, Updated Weights: [1. 1. 1.], Bias: 1\n",
            "Input: [ 1 -1  1], Target: 1, Output: 1, Updated Weights: [1. 1. 1.], Bias: 1\n",
            "Input: [ 1  1 -1], Target: 1, Output: 1, Updated Weights: [1. 1. 1.], Bias: 1\n",
            "Input: [1 1 1], Target: 1, Output: 1, Updated Weights: [1. 1. 1.], Bias: 1\n",
            "\n",
            "Epoch 5\n",
            "Input: [ 1 -1 -1], Target: -1, Output: -1, Updated Weights: [1. 1. 1.], Bias: 1\n",
            "Input: [ 1 -1  1], Target: 1, Output: 1, Updated Weights: [1. 1. 1.], Bias: 1\n",
            "Input: [ 1  1 -1], Target: 1, Output: 1, Updated Weights: [1. 1. 1.], Bias: 1\n",
            "Input: [1 1 1], Target: 1, Output: 1, Updated Weights: [1. 1. 1.], Bias: 1\n",
            "Final Weights: [1. 1. 1.], Bias: 1\n",
            "--------------------------------------------------\n",
            "\n",
            "Training for NAND Gate:\n",
            "Initial Weights: [1. 1. 1.], Bias: 1\n",
            "\n",
            "Epoch 1\n",
            "Input: [ 1 -1 -1], Target: 1, Output: -1, Updated Weights: [2. 0. 0.], Bias: 2\n",
            "Input: [ 1 -1  1], Target: 1, Output: 1, Updated Weights: [2. 0. 0.], Bias: 2\n",
            "Input: [ 1  1 -1], Target: 1, Output: 1, Updated Weights: [2. 0. 0.], Bias: 2\n",
            "Input: [1 1 1], Target: -1, Output: 1, Updated Weights: [ 1. -1. -1.], Bias: 1\n",
            "\n",
            "Epoch 2\n",
            "Input: [ 1 -1 -1], Target: 1, Output: 1, Updated Weights: [ 1. -1. -1.], Bias: 1\n",
            "Input: [ 1 -1  1], Target: 1, Output: 1, Updated Weights: [ 1. -1. -1.], Bias: 1\n",
            "Input: [ 1  1 -1], Target: 1, Output: 1, Updated Weights: [ 1. -1. -1.], Bias: 1\n",
            "Input: [1 1 1], Target: -1, Output: -1, Updated Weights: [ 1. -1. -1.], Bias: 1\n",
            "\n",
            "Epoch 3\n",
            "Input: [ 1 -1 -1], Target: 1, Output: 1, Updated Weights: [ 1. -1. -1.], Bias: 1\n",
            "Input: [ 1 -1  1], Target: 1, Output: 1, Updated Weights: [ 1. -1. -1.], Bias: 1\n",
            "Input: [ 1  1 -1], Target: 1, Output: 1, Updated Weights: [ 1. -1. -1.], Bias: 1\n",
            "Input: [1 1 1], Target: -1, Output: -1, Updated Weights: [ 1. -1. -1.], Bias: 1\n",
            "\n",
            "Epoch 4\n",
            "Input: [ 1 -1 -1], Target: 1, Output: 1, Updated Weights: [ 1. -1. -1.], Bias: 1\n",
            "Input: [ 1 -1  1], Target: 1, Output: 1, Updated Weights: [ 1. -1. -1.], Bias: 1\n",
            "Input: [ 1  1 -1], Target: 1, Output: 1, Updated Weights: [ 1. -1. -1.], Bias: 1\n",
            "Input: [1 1 1], Target: -1, Output: -1, Updated Weights: [ 1. -1. -1.], Bias: 1\n",
            "\n",
            "Epoch 5\n",
            "Input: [ 1 -1 -1], Target: 1, Output: 1, Updated Weights: [ 1. -1. -1.], Bias: 1\n",
            "Input: [ 1 -1  1], Target: 1, Output: 1, Updated Weights: [ 1. -1. -1.], Bias: 1\n",
            "Input: [ 1  1 -1], Target: 1, Output: 1, Updated Weights: [ 1. -1. -1.], Bias: 1\n",
            "Input: [1 1 1], Target: -1, Output: -1, Updated Weights: [ 1. -1. -1.], Bias: 1\n",
            "Final Weights: [ 1. -1. -1.], Bias: 1\n",
            "--------------------------------------------------\n",
            "\n",
            "Training for NOR Gate:\n",
            "Initial Weights: [1. 1. 1.], Bias: 1\n",
            "\n",
            "Epoch 1\n",
            "Input: [ 1 -1 -1], Target: 1, Output: -1, Updated Weights: [2. 0. 0.], Bias: 2\n",
            "Input: [ 1 -1  1], Target: -1, Output: 1, Updated Weights: [ 1.  1. -1.], Bias: 1\n",
            "Input: [ 1  1 -1], Target: -1, Output: 1, Updated Weights: [0. 0. 0.], Bias: 0\n",
            "Input: [1 1 1], Target: -1, Output: 1, Updated Weights: [-1. -1. -1.], Bias: -1\n",
            "\n",
            "Epoch 2\n",
            "Input: [ 1 -1 -1], Target: 1, Output: 1, Updated Weights: [-1. -1. -1.], Bias: -1\n",
            "Input: [ 1 -1  1], Target: -1, Output: -1, Updated Weights: [-1. -1. -1.], Bias: -1\n",
            "Input: [ 1  1 -1], Target: -1, Output: -1, Updated Weights: [-1. -1. -1.], Bias: -1\n",
            "Input: [1 1 1], Target: -1, Output: -1, Updated Weights: [-1. -1. -1.], Bias: -1\n",
            "\n",
            "Epoch 3\n",
            "Input: [ 1 -1 -1], Target: 1, Output: 1, Updated Weights: [-1. -1. -1.], Bias: -1\n",
            "Input: [ 1 -1  1], Target: -1, Output: -1, Updated Weights: [-1. -1. -1.], Bias: -1\n",
            "Input: [ 1  1 -1], Target: -1, Output: -1, Updated Weights: [-1. -1. -1.], Bias: -1\n",
            "Input: [1 1 1], Target: -1, Output: -1, Updated Weights: [-1. -1. -1.], Bias: -1\n",
            "\n",
            "Epoch 4\n",
            "Input: [ 1 -1 -1], Target: 1, Output: 1, Updated Weights: [-1. -1. -1.], Bias: -1\n",
            "Input: [ 1 -1  1], Target: -1, Output: -1, Updated Weights: [-1. -1. -1.], Bias: -1\n",
            "Input: [ 1  1 -1], Target: -1, Output: -1, Updated Weights: [-1. -1. -1.], Bias: -1\n",
            "Input: [1 1 1], Target: -1, Output: -1, Updated Weights: [-1. -1. -1.], Bias: -1\n",
            "\n",
            "Epoch 5\n",
            "Input: [ 1 -1 -1], Target: 1, Output: 1, Updated Weights: [-1. -1. -1.], Bias: -1\n",
            "Input: [ 1 -1  1], Target: -1, Output: -1, Updated Weights: [-1. -1. -1.], Bias: -1\n",
            "Input: [ 1  1 -1], Target: -1, Output: -1, Updated Weights: [-1. -1. -1.], Bias: -1\n",
            "Input: [1 1 1], Target: -1, Output: -1, Updated Weights: [-1. -1. -1.], Bias: -1\n",
            "Final Weights: [-1. -1. -1.], Bias: -1\n",
            "--------------------------------------------------\n"
          ]
        }
      ]
    }
  ]
}