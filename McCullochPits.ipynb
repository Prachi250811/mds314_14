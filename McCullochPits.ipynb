{
  "nbformat": 4,
  "nbformat_minor": 0,
  "metadata": {
    "colab": {
      "provenance": []
    },
    "kernelspec": {
      "name": "python3",
      "display_name": "Python 3"
    },
    "language_info": {
      "name": "python"
    }
  },
  "cells": [
    {
      "cell_type": "code",
      "source": [
        "import numpy as np\n",
        "import pandas as pd"
      ],
      "metadata": {
        "id": "l8yBRuZtn_uN"
      },
      "execution_count": 1,
      "outputs": []
    },
    {
      "cell_type": "code",
      "source": [
        "def fun(x,theta):\n",
        "    return 1 if x >= theta else 0"
      ],
      "metadata": {
        "id": "rK-tNMfkoNlB"
      },
      "execution_count": 2,
      "outputs": []
    },
    {
      "cell_type": "code",
      "source": [
        "def mpitt(weight, theta, df):\n",
        "    c_count = 0\n",
        "    for i in range(len(df)):\n",
        "        X = np.array(df.iloc[i, 0])\n",
        "        y_in = np.dot(X, weight.T)\n",
        "        t_head = fun(y_in,theta)\n",
        "        target = df.iloc[i, 1]\n",
        "        if target == t_head:\n",
        "            c_count += 1\n",
        "    return c_count == len(df)"
      ],
      "metadata": {
        "id": "M2b5QKrhoRgC"
      },
      "execution_count": 3,
      "outputs": []
    },
    {
      "cell_type": "markdown",
      "source": [
        "TRUTH TABLE FOR AND GATE"
      ],
      "metadata": {
        "id": "5qSLdZBNoXbA"
      }
    },
    {
      "cell_type": "code",
      "source": [
        "and_data = pd.DataFrame({\n",
        "    0: [[0,0],[0,1],[1,0],[1,1]],\n",
        "    1: [0,0,0,1]\n",
        "})"
      ],
      "metadata": {
        "id": "bsnrC5sZoUk1"
      },
      "execution_count": 4,
      "outputs": []
    },
    {
      "cell_type": "markdown",
      "source": [
        "TRUTH TABLE FOR OR GATE"
      ],
      "metadata": {
        "id": "G1-F016xo4um"
      }
    },
    {
      "cell_type": "code",
      "source": [
        "or_data = pd.DataFrame({\n",
        "    0: [[0,0],[0,1],[1,0],[1,1]],\n",
        "    1: [0,1,1,1]\n",
        "})"
      ],
      "metadata": {
        "id": "P4JsqC-WogHk"
      },
      "execution_count": 5,
      "outputs": []
    },
    {
      "cell_type": "markdown",
      "source": [
        "TRUTH TABLE FOR NOR GATE"
      ],
      "metadata": {
        "id": "A0PDnB94pgsR"
      }
    },
    {
      "cell_type": "code",
      "source": [
        "nor_data = pd.DataFrame({\n",
        "    0: [[0,0],[0,1],[1,0],[1,1]],\n",
        "    1: [1,0,0,0]\n",
        "})"
      ],
      "metadata": {
        "id": "6r2VsZW-o4Tu"
      },
      "execution_count": 6,
      "outputs": []
    },
    {
      "cell_type": "markdown",
      "source": [
        "TRUTH TABLE FOR NAND GATE"
      ],
      "metadata": {
        "id": "iT9d7Ksdp31x"
      }
    },
    {
      "cell_type": "code",
      "source": [
        "nand_data = pd.DataFrame({\n",
        "    0: [[0,0],[0,1],[1,0],[1,1]],\n",
        "    1: [1,1,1,0]\n",
        "})"
      ],
      "metadata": {
        "id": "HynH5vizplj6"
      },
      "execution_count": 7,
      "outputs": []
    },
    {
      "cell_type": "code",
      "source": [
        "print(\"AND Gate Solutions\")\n",
        "for w1 in range(-3, 4):\n",
        "    for w2 in range(-3, 4):\n",
        "        for theta in range(0, 3):\n",
        "            if mpitt(np.array([w1, w2]), theta, and_data):\n",
        "                print(f\"w1={w1}, w2={w2}, θ={theta}\")"
      ],
      "metadata": {
        "colab": {
          "base_uri": "https://localhost:8080/"
        },
        "id": "e5gRMsO_p-kI",
        "outputId": "e96d8f83-3054-408e-9c64-299b3f431ef4"
      },
      "execution_count": 8,
      "outputs": [
        {
          "output_type": "stream",
          "name": "stdout",
          "text": [
            "AND Gate Solutions\n",
            "w1=1, w2=1, θ=2\n"
          ]
        }
      ]
    },
    {
      "cell_type": "code",
      "source": [
        "print(\"\\nOR Gate Solutions\")\n",
        "for w1 in range(-3, 4):\n",
        "    for w2 in range(-3, 4):\n",
        "        for theta in range(0, 3):\n",
        "            if mpitt(np.array([w1, w2]), theta, or_data):\n",
        "                print(f\"w1={w1}, w2={w2}, θ={theta}\")"
      ],
      "metadata": {
        "colab": {
          "base_uri": "https://localhost:8080/"
        },
        "id": "Kh3OBipeqEEb",
        "outputId": "ac5b9df6-2f6b-4055-87bd-6d6e778ec388"
      },
      "execution_count": 9,
      "outputs": [
        {
          "output_type": "stream",
          "name": "stdout",
          "text": [
            "\n",
            "OR Gate Solutions\n",
            "w1=1, w2=1, θ=1\n",
            "w1=1, w2=2, θ=1\n",
            "w1=1, w2=3, θ=1\n",
            "w1=2, w2=1, θ=1\n",
            "w1=2, w2=2, θ=1\n",
            "w1=2, w2=2, θ=2\n",
            "w1=2, w2=3, θ=1\n",
            "w1=2, w2=3, θ=2\n",
            "w1=3, w2=1, θ=1\n",
            "w1=3, w2=2, θ=1\n",
            "w1=3, w2=2, θ=2\n",
            "w1=3, w2=3, θ=1\n",
            "w1=3, w2=3, θ=2\n"
          ]
        }
      ]
    },
    {
      "cell_type": "code",
      "source": [
        "print(\"\\nNOR Gate Solutions\")\n",
        "for w1 in range(-3, 4):\n",
        "    for w2 in range(-3, 4):\n",
        "        for theta in range(0, 3):\n",
        "            if mpitt(np.array([w1, w2]), theta, nor_data):\n",
        "                print(f\"w1={w1}, w2={w2}, θ={theta}\")"
      ],
      "metadata": {
        "colab": {
          "base_uri": "https://localhost:8080/"
        },
        "id": "OxunK25_qHPZ",
        "outputId": "039c4d9b-66f1-4f4c-e2d3-1ad4be42d53b"
      },
      "execution_count": 10,
      "outputs": [
        {
          "output_type": "stream",
          "name": "stdout",
          "text": [
            "\n",
            "NOR Gate Solutions\n",
            "w1=-3, w2=-3, θ=0\n",
            "w1=-3, w2=-2, θ=0\n",
            "w1=-3, w2=-1, θ=0\n",
            "w1=-2, w2=-3, θ=0\n",
            "w1=-2, w2=-2, θ=0\n",
            "w1=-2, w2=-1, θ=0\n",
            "w1=-1, w2=-3, θ=0\n",
            "w1=-1, w2=-2, θ=0\n",
            "w1=-1, w2=-1, θ=0\n"
          ]
        }
      ]
    },
    {
      "cell_type": "code",
      "source": [
        "print(\"\\nNAND Gate Solutions\")\n",
        "for w1 in range(-3, 4):\n",
        "    for w2 in range(-3, 4):\n",
        "        for theta in range(0, 3):\n",
        "            if mpitt(np.array([w1, w2]), theta, nand_data):\n",
        "                print(f\"w1={w1}, w2={w2}, θ={theta}\")"
      ],
      "metadata": {
        "colab": {
          "base_uri": "https://localhost:8080/"
        },
        "id": "OFKxwgmWqSDt",
        "outputId": "53776a60-285c-4def-99dd-96187f9c829f"
      },
      "execution_count": 11,
      "outputs": [
        {
          "output_type": "stream",
          "name": "stdout",
          "text": [
            "\n",
            "NAND Gate Solutions\n"
          ]
        }
      ]
    }
  ]
}